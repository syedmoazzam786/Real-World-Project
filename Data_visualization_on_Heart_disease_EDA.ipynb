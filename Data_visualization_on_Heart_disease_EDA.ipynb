{
  "nbformat": 4,
  "nbformat_minor": 0,
  "metadata": {
    "colab": {
      "provenance": [],
      "toc_visible": true,
      "mount_file_id": "1rMsFxAq9Pmcs5DNBW3Gy9J4MWS6Qmu1s",
      "authorship_tag": "ABX9TyPiyY/YG5TyHP+nGVH5V/i/",
      "include_colab_link": true
    },
    "kernelspec": {
      "name": "python3",
      "display_name": "Python 3"
    },
    "language_info": {
      "name": "python"
    }
  },
  "cells": [
    {
      "cell_type": "markdown",
      "metadata": {
        "id": "view-in-github",
        "colab_type": "text"
      },
      "source": [
        "<a href=\"https://colab.research.google.com/github/syedmoazzam786/Real-World-Project/blob/main/Data_visualization_on_Heart_disease_EDA.ipynb\" target=\"_parent\"><img src=\"https://colab.research.google.com/assets/colab-badge.svg\" alt=\"Open In Colab\"/></a>"
      ]
    },
    {
      "cell_type": "code",
      "execution_count": null,
      "metadata": {
        "id": "Mi2lFOjGA4SL"
      },
      "outputs": [],
      "source": [
        "import numpy as np\n",
        "import pandas as pd\n",
        "import seaborn as sns\n",
        "import matplotlib.pyplot as plt"
      ]
    },
    {
      "cell_type": "code",
      "source": [
        "df = pd.read_csv('/content/drive/MyDrive/dataset/heart.csv')"
      ],
      "metadata": {
        "id": "Q_2l5M--Bn7O"
      },
      "execution_count": null,
      "outputs": []
    },
    {
      "cell_type": "code",
      "source": [
        "df.head()"
      ],
      "metadata": {
        "id": "Z7r4khe3B4SY"
      },
      "execution_count": null,
      "outputs": []
    },
    {
      "cell_type": "code",
      "source": [
        "df.info()"
      ],
      "metadata": {
        "id": "mp1ghLuiB6BV"
      },
      "execution_count": null,
      "outputs": []
    },
    {
      "cell_type": "code",
      "source": [
        "sns.displot(df['Age'])"
      ],
      "metadata": {
        "id": "Pqa9EOvOCOaR"
      },
      "execution_count": null,
      "outputs": []
    },
    {
      "cell_type": "code",
      "source": [
        "sns.displot(df['Age'],kde=True)"
      ],
      "metadata": {
        "id": "OAmnroZPCrxJ"
      },
      "execution_count": null,
      "outputs": []
    },
    {
      "cell_type": "code",
      "source": [
        "sns.displot(df['Age'],kde=False)"
      ],
      "metadata": {
        "id": "9yXFIkPTDAIZ"
      },
      "execution_count": null,
      "outputs": []
    },
    {
      "cell_type": "code",
      "source": [
        "sns.distplot(df['Age'],kde=False , hist=False , rug = True)"
      ],
      "metadata": {
        "id": "z77yzIIbDRnb"
      },
      "execution_count": null,
      "outputs": []
    },
    {
      "cell_type": "code",
      "source": [
        "sns.distplot(df['Age'], kde = True, rug = True)"
      ],
      "metadata": {
        "id": "JXdlNaRYDg_i"
      },
      "execution_count": null,
      "outputs": []
    },
    {
      "cell_type": "markdown",
      "source": [
        "## Distribution plot for numerical columns"
      ],
      "metadata": {
        "id": "ojDKxdsmer6h"
      }
    },
    {
      "cell_type": "code",
      "source": [
        "sns.distplot(df['Age'], bins = 10)"
      ],
      "metadata": {
        "id": "kEJDmGneEwlM"
      },
      "execution_count": null,
      "outputs": []
    },
    {
      "cell_type": "code",
      "source": [
        "sns.displot(df['RestingBP'], kde = True,color = 'blue')"
      ],
      "metadata": {
        "id": "45HxnPKAE9fO"
      },
      "execution_count": null,
      "outputs": []
    },
    {
      "cell_type": "code",
      "source": [
        "sns.distplot(df['RestingBP'], kde = True,color = 'blue')"
      ],
      "metadata": {
        "id": "4PUR37pEGH1w"
      },
      "execution_count": null,
      "outputs": []
    },
    {
      "cell_type": "code",
      "source": [
        "### heart disease EDA - categorical (pie charts )"
      ],
      "metadata": {
        "id": "JN2MGPfNGfwz"
      },
      "execution_count": null,
      "outputs": []
    },
    {
      "cell_type": "code",
      "source": [
        "sns.displot(df['RestingBP'], kde = True,color = 'blue')"
      ],
      "metadata": {
        "id": "ppGjdnsAUyss"
      },
      "execution_count": null,
      "outputs": []
    },
    {
      "cell_type": "code",
      "source": [
        "sns.displot(df['RestingBP'], kde = False,color = 'blue')"
      ],
      "metadata": {
        "id": "QEvM1cAmc3lM"
      },
      "execution_count": null,
      "outputs": []
    },
    {
      "cell_type": "code",
      "source": [
        "sns.distplot(df['Cholesterol'], kde = True,color = 'blue')"
      ],
      "metadata": {
        "id": "Zvwyu80ZdBzV"
      },
      "execution_count": null,
      "outputs": []
    },
    {
      "cell_type": "code",
      "source": [
        "sns.distplot(df['FastingBS'], kde = True,color = 'blue')"
      ],
      "metadata": {
        "id": "z2ykjD0FdZfD"
      },
      "execution_count": null,
      "outputs": []
    },
    {
      "cell_type": "code",
      "source": [
        "sns.distplot(df['Oldpeak'], kde = True,color = 'blue')"
      ],
      "metadata": {
        "id": "ZqHvrhxmduMc"
      },
      "execution_count": null,
      "outputs": []
    },
    {
      "cell_type": "markdown",
      "source": [
        "## pie charts for categorical"
      ],
      "metadata": {
        "id": "Qwo3pb0Ae97r"
      }
    },
    {
      "cell_type": "code",
      "source": [
        "df.groupby('Sex').size()"
      ],
      "metadata": {
        "id": "QEusJ5qXeAQy"
      },
      "execution_count": null,
      "outputs": []
    },
    {
      "cell_type": "code",
      "source": [
        "df.groupby('Sex').size().plot(kind = 'pie')"
      ],
      "metadata": {
        "id": "Psl-sG4QfQuM"
      },
      "execution_count": null,
      "outputs": []
    },
    {
      "cell_type": "code",
      "source": [
        "df.groupby('Sex').size().plot(kind = 'pie', autopct = '%0.3f')"
      ],
      "metadata": {
        "id": "CNkQuXXSffRk"
      },
      "execution_count": null,
      "outputs": []
    },
    {
      "cell_type": "code",
      "source": [
        "df.groupby('ChestPainType').size().plot(kind = 'pie', autopct = '%0.2f')"
      ],
      "metadata": {
        "id": "n8QxkkpmfrGO"
      },
      "execution_count": null,
      "outputs": []
    },
    {
      "cell_type": "code",
      "source": [
        "df.groupby('RestingECG').size().plot(kind = 'pie', autopct = '%0.2f')"
      ],
      "metadata": {
        "id": "FhvHHZIJgQm7"
      },
      "execution_count": null,
      "outputs": []
    },
    {
      "cell_type": "code",
      "source": [
        "df.groupby('ST_Slope').size().plot(kind = 'pie', autopct = '%0.2f')"
      ],
      "metadata": {
        "id": "7vk-lXbeQKuU"
      },
      "execution_count": null,
      "outputs": []
    },
    {
      "cell_type": "code",
      "source": [
        "df.groupby('ExerciseAngina').size().plot(kind = 'pie', autopct = '%0.2f')"
      ],
      "metadata": {
        "id": "2DN-r_GIQuRs"
      },
      "execution_count": null,
      "outputs": []
    },
    {
      "cell_type": "code",
      "source": [
        "df.head()"
      ],
      "metadata": {
        "id": "eAhXsxL3Qyv8"
      },
      "execution_count": null,
      "outputs": []
    },
    {
      "cell_type": "code",
      "source": [
        "df.groupby('HeartDisease').size().plot(kind = 'pie', autopct = '%0.2f')"
      ],
      "metadata": {
        "id": "njj2jlQrQ21d"
      },
      "execution_count": null,
      "outputs": []
    },
    {
      "cell_type": "code",
      "source": [],
      "metadata": {
        "id": "qY2kh2pYQ-5M"
      },
      "execution_count": null,
      "outputs": []
    },
    {
      "cell_type": "markdown",
      "source": [
        "## violin plot"
      ],
      "metadata": {
        "id": "GsHuUyu1TxAE"
      }
    },
    {
      "cell_type": "code",
      "source": [
        "sns.violinplot(x = 'Sex', y = 'Age', data = df)"
      ],
      "metadata": {
        "id": "iHHir9JiTzCz"
      },
      "execution_count": null,
      "outputs": []
    },
    {
      "cell_type": "code",
      "source": [
        "sns.violinplot(x = df['Age'])"
      ],
      "metadata": {
        "id": "MsDMtUCJUXNz"
      },
      "execution_count": null,
      "outputs": []
    },
    {
      "cell_type": "code",
      "source": [
        "sns.violinplot(y= 'Sex', x = 'HeartDisease', data = df, hue = 'Sex')"
      ],
      "metadata": {
        "id": "LyyEelM6Ue0j"
      },
      "execution_count": null,
      "outputs": []
    },
    {
      "cell_type": "code",
      "source": [
        "sns.violinplot(y= 'Age', x = 'HeartDisease', data = df,hue = 'HeartDisease' )"
      ],
      "metadata": {
        "id": "3O8Tlg3jUy8j"
      },
      "execution_count": null,
      "outputs": []
    },
    {
      "cell_type": "code",
      "source": [
        "sns.violinplot(y= 'Age', x = 'HeartDisease', data = df,hue = 'Sex' )"
      ],
      "metadata": {
        "id": "5S7XIe5bVZZE"
      },
      "execution_count": null,
      "outputs": []
    },
    {
      "cell_type": "code",
      "source": [
        "sns.violinplot(y= 'Cholesterol', x = 'HeartDisease', data = df )"
      ],
      "metadata": {
        "id": "FCxuJJ_MWO-z"
      },
      "execution_count": null,
      "outputs": []
    },
    {
      "cell_type": "markdown",
      "source": [
        "## correlation heatmap"
      ],
      "metadata": {
        "id": "PYOyGyTAX-Eh"
      }
    },
    {
      "cell_type": "code",
      "source": [
        "df.head()"
      ],
      "metadata": {
        "id": "gJLt6sqLWmp_"
      },
      "execution_count": null,
      "outputs": []
    },
    {
      "source": [
        "import seaborn as sns\n",
        "import pandas as pd\n",
        "import numpy as np\n",
        "\n",
        "# Select only numerical columns for correlation calculation\n",
        "numerical_df = df.select_dtypes(include=[np.number])\n",
        "sns.heatmap(numerical_df.corr(), annot=True)"
      ],
      "cell_type": "code",
      "metadata": {
        "id": "2R-3XrqHdau2"
      },
      "execution_count": null,
      "outputs": []
    },
    {
      "cell_type": "markdown",
      "source": [
        "## correlation _ jointplot"
      ],
      "metadata": {
        "id": "JeqizAiRe3UZ"
      }
    },
    {
      "cell_type": "code",
      "source": [
        "sns.jointplot(x = 'Age', y = 'MaxHR', data = df)"
      ],
      "metadata": {
        "id": "wG2mKQvndyAa"
      },
      "execution_count": null,
      "outputs": []
    },
    {
      "cell_type": "code",
      "source": [
        "sns.jointplot(x = 'Age', y = 'Age', data = df)"
      ],
      "metadata": {
        "id": "CYp0WieSfU2a"
      },
      "execution_count": null,
      "outputs": []
    },
    {
      "cell_type": "code",
      "source": [
        "sns.jointplot(x = 'HeartDisease', y = 'Oldpeak', data = df)"
      ],
      "metadata": {
        "id": "vq8NX7A9frDy"
      },
      "execution_count": null,
      "outputs": []
    },
    {
      "cell_type": "code",
      "source": [
        "sns.jointplot(x = 'Cholesterol', y = 'MaxHR', data = df)"
      ],
      "metadata": {
        "id": "5lzgJkG2f6S7"
      },
      "execution_count": null,
      "outputs": []
    },
    {
      "cell_type": "code",
      "source": [
        "sns.jointplot(x = 'Age', y = 'MaxHR', data = df, kind = 'hex')"
      ],
      "metadata": {
        "id": "0snGsQnegLuA"
      },
      "execution_count": null,
      "outputs": []
    },
    {
      "cell_type": "code",
      "source": [
        "sns.jointplot(x = 'Age', y = 'MaxHR', data = df, kind = 'reg')"
      ],
      "metadata": {
        "id": "t5Eo-LEwgabR"
      },
      "execution_count": null,
      "outputs": []
    },
    {
      "cell_type": "code",
      "source": [
        "sns.jointplot(x = 'HeartDisease', y = 'MaxHR', data = df, kind = 'reg')"
      ],
      "metadata": {
        "id": "2oNTLZ9og1rx"
      },
      "execution_count": null,
      "outputs": []
    },
    {
      "cell_type": "markdown",
      "source": [
        "## correlation Pairplot"
      ],
      "metadata": {
        "id": "Khj1P9j3iB3C"
      }
    },
    {
      "cell_type": "code",
      "source": [
        "sns.pairplot(df)"
      ],
      "metadata": {
        "id": "PGWjsMFIheDp"
      },
      "execution_count": null,
      "outputs": []
    },
    {
      "cell_type": "code",
      "source": [],
      "metadata": {
        "id": "b47ijv_WiMSR"
      },
      "execution_count": null,
      "outputs": []
    }
  ]
}